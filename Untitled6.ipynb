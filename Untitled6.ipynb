{
  "nbformat": 4,
  "nbformat_minor": 0,
  "metadata": {
    "colab": {
      "provenance": [],
      "authorship_tag": "ABX9TyMDnDp6RVLeqOD0s5DEUuCt",
      "include_colab_link": true
    },
    "kernelspec": {
      "name": "python3",
      "display_name": "Python 3"
    },
    "language_info": {
      "name": "python"
    }
  },
  "cells": [
    {
      "cell_type": "markdown",
      "metadata": {
        "id": "view-in-github",
        "colab_type": "text"
      },
      "source": [
        "<a href=\"https://colab.research.google.com/github/rayhwr/RayhanHawari_UASML/blob/main/Untitled6.ipynb\" target=\"_parent\"><img src=\"https://colab.research.google.com/assets/colab-badge.svg\" alt=\"Open In Colab\"/></a>"
      ]
    },
    {
      "cell_type": "code",
      "source": [
        "# 1. Persiapan Lingkungan\n",
        "import pandas as pd\n",
        "import numpy as np\n",
        "import matplotlib.pyplot as plt\n",
        "import seaborn as sns\n",
        "from sklearn.cluster import KMeans\n",
        "from mlxtend.frequent_patterns import apriori, association_rules"
      ],
      "metadata": {
        "id": "nb0oW5FW0qLa"
      },
      "execution_count": 27,
      "outputs": []
    },
    {
      "cell_type": "code",
      "source": [
        "# 2. Membaca Dataset\n",
        "file_path = '/content/online_retail_II.xlsx'\n",
        "data = pd.read_excel(file_path)"
      ],
      "metadata": {
        "id": "OI5V4r3L0ttj"
      },
      "execution_count": 23,
      "outputs": []
    },
    {
      "cell_type": "code",
      "source": [
        "# 3. Eksplorasi Data Awal\n",
        "print(data.head())\n",
        "print(data.info())"
      ],
      "metadata": {
        "colab": {
          "base_uri": "https://localhost:8080/"
        },
        "id": "qLD6CyIj1e9y",
        "outputId": "a6206dd9-d5d8-4d76-e939-c01c5e8b8d64"
      },
      "execution_count": 24,
      "outputs": [
        {
          "output_type": "stream",
          "name": "stdout",
          "text": [
            "  Invoice StockCode                          Description  Quantity  \\\n",
            "0  489434     85048  15CM CHRISTMAS GLASS BALL 20 LIGHTS        12   \n",
            "1  489434    79323P                   PINK CHERRY LIGHTS        12   \n",
            "2  489434    79323W                  WHITE CHERRY LIGHTS        12   \n",
            "3  489434     22041         RECORD FRAME 7\" SINGLE SIZE         48   \n",
            "4  489434     21232       STRAWBERRY CERAMIC TRINKET BOX        24   \n",
            "\n",
            "          InvoiceDate  Price  Customer ID         Country  \n",
            "0 2009-12-01 07:45:00   6.95      13085.0  United Kingdom  \n",
            "1 2009-12-01 07:45:00   6.75      13085.0  United Kingdom  \n",
            "2 2009-12-01 07:45:00   6.75      13085.0  United Kingdom  \n",
            "3 2009-12-01 07:45:00   2.10      13085.0  United Kingdom  \n",
            "4 2009-12-01 07:45:00   1.25      13085.0  United Kingdom  \n",
            "<class 'pandas.core.frame.DataFrame'>\n",
            "RangeIndex: 525461 entries, 0 to 525460\n",
            "Data columns (total 8 columns):\n",
            " #   Column       Non-Null Count   Dtype         \n",
            "---  ------       --------------   -----         \n",
            " 0   Invoice      525461 non-null  object        \n",
            " 1   StockCode    525461 non-null  object        \n",
            " 2   Description  522533 non-null  object        \n",
            " 3   Quantity     525461 non-null  int64         \n",
            " 4   InvoiceDate  525461 non-null  datetime64[ns]\n",
            " 5   Price        525461 non-null  float64       \n",
            " 6   Customer ID  417534 non-null  float64       \n",
            " 7   Country      525461 non-null  object        \n",
            "dtypes: datetime64[ns](1), float64(2), int64(1), object(4)\n",
            "memory usage: 32.1+ MB\n",
            "None\n"
          ]
        }
      ]
    },
    {
      "cell_type": "code",
      "source": [
        "# 4. Pembersihan Data\n",
        "data.drop_duplicates(inplace=True)\n",
        "data.dropna(subset=['Invoice', 'Description'], inplace=True)\n",
        "data['InvoiceDate'] = pd.to_datetime(data['InvoiceDate'])"
      ],
      "metadata": {
        "id": "Ae04dstX1gTC"
      },
      "execution_count": 28,
      "outputs": []
    },
    {
      "cell_type": "code",
      "source": [
        "# 5. Analisis Deskriptif\n",
        "total_sales = data['Quantity'] * data['Price']\n",
        "data['TotalSales'] = total_sales\n",
        "print(\"Total Penjualan:\", data['TotalSales'].sum())\n",
        "print(\"Jumlah Produk:\", data['StockCode'].nunique())\n",
        "print(\"Jumlah Pelanggan:\", data['Customer ID'].nunique())"
      ],
      "metadata": {
        "colab": {
          "base_uri": "https://localhost:8080/"
        },
        "id": "kzFjK0a41u3h",
        "outputId": "45241eb9-66fe-4e13-c006-7dcc962b7354"
      },
      "execution_count": 29,
      "outputs": [
        {
          "output_type": "stream",
          "name": "stdout",
          "text": [
            "Total Penjualan: 9505775.564\n",
            "Jumlah Produk: 4276\n",
            "Jumlah Pelanggan: 4383\n"
          ]
        }
      ]
    },
    {
      "cell_type": "code",
      "source": [
        "# Visualisasi Distribusi Penjualan\n",
        "plt.figure(figsize=(10, 6))\n",
        "sns.histplot(data['TotalSales'], bins=50, kde=True)\n",
        "plt.title('Distribusi Total Penjualan')\n",
        "plt.xlabel('Total Penjualan')\n",
        "plt.ylabel('Frekuensi')\n",
        "plt.show()"
      ],
      "metadata": {
        "colab": {
          "base_uri": "https://localhost:8080/",
          "height": 564
        },
        "id": "W_Arcbrg16bD",
        "outputId": "4470d4e3-8eac-43ba-bb91-ca3f0efe2fad"
      },
      "execution_count": 30,
      "outputs": [
        {
          "output_type": "display_data",
          "data": {
            "text/plain": [
              "<Figure size 1000x600 with 1 Axes>"
            ],
            "image/png": "[encoded data removed]"
          },
          "metadata": {}
        }
      ]
    },
    {
      "cell_type": "code",
      "source": [
        "# 6. Analisis Asosiasi\n",
        "basket = (data.groupby(['Invoice', 'Description'])['Quantity']\n",
        "          .sum().unstack().reset_index().fillna(0)\n",
        "          .set_index('Invoice'))\n",
        "\n",
        "def encode_units(x):\n",
        "    return 1 if x >= 1 else 0\n",
        "\n",
        "basket_encoded = basket.applymap(encode_units)\n",
        "frequent_itemsets = apriori(basket_encoded, min_support=0.05, use_colnames=True)\n",
        "rules = association_rules(frequent_itemsets, metric=\"lift\", min_threshold=1)"
      ],
      "metadata": {
        "colab": {
          "base_uri": "https://localhost:8080/"
        },
        "id": "OKZEOeDR2F-5",
        "outputId": "3c5b8839-0640-446d-e02e-ae01ea698b9e"
      },
      "execution_count": 31,
      "outputs": [
        {
          "output_type": "stream",
          "name": "stderr",
          "text": [
            "/tmp/ipython-input-3021689253.py:9: FutureWarning: DataFrame.applymap has been deprecated. Use DataFrame.map instead.\n",
            "  basket_encoded = basket.applymap(encode_units)\n",
            "/usr/local/lib/python3.11/dist-packages/mlxtend/frequent_patterns/fpcommon.py:161: DeprecationWarning: DataFrames with non-bool types result in worse computationalperformance and their support might be discontinued in the future.Please use a DataFrame with bool type\n",
            "  warnings.warn(\n"
          ]
        }
      ]
    },
    {
      "cell_type": "code",
      "source": [
        "# 7. Clustering Pelanggan\n",
        "customer_data = data.groupby('Customer ID').agg({'TotalSales': 'sum', 'Invoice': 'count'}).reset_index()\n",
        "kmeans = KMeans(n_clusters=3)\n",
        "customer_data['Cluster'] = kmeans.fit_predict(customer_data[['TotalSales', 'Invoice']])"
      ],
      "metadata": {
        "id": "mvjd9l432OC7"
      },
      "execution_count": 32,
      "outputs": []
    },
    {
      "cell_type": "code",
      "source": [
        "# 8. Prediksi Penjualan\n",
        "from sklearn.model_selection import train_test_split\n",
        "from sklearn.linear_model import LinearRegression\n",
        "X = data[['Price', 'Quantity']]\n",
        "y = data['TotalSales']\n",
        "X_train, X_test, y_train, y_test = train_test_split(X, y, test_size=0.2, random_state=42)\n",
        "model = LinearRegression()\n",
        "model.fit(X_train, y_train)\n",
        "predictions = model.predict(X_test)"
      ],
      "metadata": {
        "id": "WrbmrgFC2mry"
      },
      "execution_count": 33,
      "outputs": []
    },
    {
      "cell_type": "code",
      "source": [
        "# 9. Interpretasi Hasil\n",
        "print(\"Koefisien Regresi:\", model.coef_)"
      ],
      "metadata": {
        "colab": {
          "base_uri": "https://localhost:8080/"
        },
        "id": "K5nzqSaz2pnp",
        "outputId": "b95e6ac1-a49a-4952-9ac1-d512f14c6358"
      },
      "execution_count": 34,
      "outputs": [
        {
          "output_type": "stream",
          "name": "stdout",
          "text": [
            "Koefisien Regresi: [0.52699449 0.24875373]\n"
          ]
        }
      ]
    }
  ]
}